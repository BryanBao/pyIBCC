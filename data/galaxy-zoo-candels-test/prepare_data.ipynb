{
 "metadata": {
  "name": "",
  "signature": "sha256:7c897cd20aa4a94f8c66693d7490a9fb135bb5feee4fe0577ac2e32c0be78245"
 },
 "nbformat": 3,
 "nbformat_minor": 0,
 "worksheets": [
  {
   "cells": [
    {
     "cell_type": "code",
     "collapsed": false,
     "input": [
      "import pandas as pd"
     ],
     "language": "python",
     "metadata": {},
     "outputs": [],
     "prompt_number": 1
    },
    {
     "cell_type": "code",
     "collapsed": false,
     "input": [
      "candels_quick = '2013-11-17_galaxy_zoo_classifications_CANDELSonly_quick.csv'\n",
      "candels_full = '2013-11-17_galaxy_zoo_classifications_CANDELSonly.csv'"
     ],
     "language": "python",
     "metadata": {},
     "outputs": [],
     "prompt_number": 2
    },
    {
     "cell_type": "code",
     "collapsed": false,
     "input": [
      "def add_unique_indices(df, columns):\n",
      "    mappings = []\n",
      "    for col in columns:\n",
      "        uniq = pd.unique(df[col])\n",
      "        mapping = pd.DataFrame(np.arange(uniq.size)+1, index=uniq, columns=[col+'_index'])\n",
      "        mappings.append(mapping)\n",
      "        df = df.join(mapping, rsuffix='_'+col, on=col)\n",
      "    return df, mappings\n",
      "\n",
      "def prepare_data(infile=candels_quick, n=None, label='', user_modulo=None):\n",
      "    df = pd.read_csv(infile)\n",
      "    df['score'] = np.zeros(df['id'].shape, np.int)\n",
      "    df['score'][df['candels-0'] == 'a-1'] = 1\n",
      "    df['score'][df['candels-0'] == 'a-2'] = 2\n",
      "    df = df[['user_id', 'subject_id', 'score']]\n",
      "    df.dropna(inplace=True)\n",
      "    if n is not None:\n",
      "        df.reset_index(inplace=True)\n",
      "        # find number of classifications per subject\n",
      "        total_per_user = df.groupby('user_id').size().astype(np.int)\n",
      "        total_per_user.name = 'total_per_user'\n",
      "        total_per_user.sort(ascending=False)\n",
      "        nusers = total_per_user.size\n",
      "        if n < nusers:\n",
      "            total_per_user_selected = total_per_user[:n]\n",
      "            df.set_index('user_id', inplace=True)\n",
      "            df = df.join(total_per_user_selected, rsuffix='2')\n",
      "            df.sort('total_per_user', inplace=True)\n",
      "            df.dropna(inplace=True)\n",
      "            df.reset_index(inplace=True)\n",
      "            df.set_index('index', inplace=True)\n",
      "            df.sort(inplace=True)\n",
      "    df, mappings = add_unique_indices(df, ['user_id', 'subject_id'])\n",
      "    if user_modulo is not None:\n",
      "        df['user_id_index'] = (df['user_id_index'] - 1) % user_modulo + 1\n",
      "    columns = ['user_id_index', 'subject_id_index', 'score']\n",
      "    with file('input{}.csv'.format(label), 'w') as f:\n",
      "        df.to_csv(f, cols=columns, index=False, header=True)"
     ],
     "language": "python",
     "metadata": {},
     "outputs": [],
     "prompt_number": 3
    },
    {
     "cell_type": "code",
     "collapsed": false,
     "input": [
      "prepare_data(infile=candels_quick, n=100, label='_quick_100_mod10', user_modulo=10)"
     ],
     "language": "python",
     "metadata": {},
     "outputs": [],
     "prompt_number": 4
    },
    {
     "cell_type": "code",
     "collapsed": false,
     "input": [
      "prepare_data(infile=candels_quick, n=100, label='_quick_100')"
     ],
     "language": "python",
     "metadata": {},
     "outputs": [],
     "prompt_number": 5
    },
    {
     "cell_type": "code",
     "collapsed": false,
     "input": [
      "prepare_data(infile=candels_full, n=500, label='_full_500')"
     ],
     "language": "python",
     "metadata": {},
     "outputs": [],
     "prompt_number": 6
    }
   ],
   "metadata": {}
  }
 ]
}